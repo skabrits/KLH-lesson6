{
 "cells": [
  {
   "cell_type": "markdown",
   "id": "87134eec",
   "metadata": {},
   "source": [
    "# Посильные задачи повышенной сложности (пзпс) *V2*\n",
    "\n",
    "### Разбаловка\n",
    "\n",
    "Рядом с каждой задачей написано сколько плюсиков за задачу получает команда. Одна команда за 1 задач может получить плюсики не более 1 раза."
   ]
  },
  {
   "cell_type": "markdown",
   "id": "275f23bd",
   "metadata": {},
   "source": [
    "## Задачи"
   ]
  },
  {
   "cell_type": "markdown",
   "id": "ecc34e2f",
   "metadata": {},
   "source": [
    "### 1. Жизнь (+++)"
   ]
  },
  {
   "cell_type": "markdown",
   "id": "56991c9b",
   "metadata": {},
   "source": [
    "Реализуйте игру жизнь на поле задаваемого размера, с возможностью задавать начальные условия.\n",
    "\n",
    "[Дополнительная информация](https://ru.wikipedia.org/wiki/%D0%98%D0%B3%D1%80%D0%B0_%C2%AB%D0%96%D0%B8%D0%B7%D0%BD%D1%8C%C2%BB#%D0%9F%D1%80%D0%B0%D0%B2%D0%B8%D0%BB%D0%B0)"
   ]
  },
  {
   "cell_type": "markdown",
   "id": "9b8819fa",
   "metadata": {},
   "source": [
    "### 2. TODO or not TODO (++)"
   ]
  },
  {
   "cell_type": "markdown",
   "id": "610e3947",
   "metadata": {},
   "source": [
    "Напишите сайт, позволяющий составлять TODO листы."
   ]
  }
 ],
 "metadata": {
  "kernelspec": {
   "display_name": "Python 3 (ipykernel)",
   "language": "python",
   "name": "python3"
  },
  "language_info": {
   "codemirror_mode": {
    "name": "ipython",
    "version": 3
   },
   "file_extension": ".py",
   "mimetype": "text/x-python",
   "name": "python",
   "nbconvert_exporter": "python",
   "pygments_lexer": "ipython3",
   "version": "3.7.9"
  }
 },
 "nbformat": 4,
 "nbformat_minor": 5
}
