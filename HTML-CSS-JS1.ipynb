{
 "cells": [
  {
   "cell_type": "markdown",
   "id": "a78c585f",
   "metadata": {},
   "source": [
    "# Ранбук по теме HTML CSS and JS p1"
   ]
  },
  {
   "cell_type": "markdown",
   "id": "436d4920",
   "metadata": {},
   "source": [
    "## HTML"
   ]
  },
  {
   "cell_type": "markdown",
   "id": "4a97da28",
   "metadata": {},
   "source": [
    "### Основные понятия HTML\n",
    "\n",
    "Итак, давайте посмотрим на структуру html документа и разберём что есть что и что что делает:"
   ]
  },
  {
   "cell_type": "code",
   "execution_count": null,
   "id": "4d8b673f",
   "metadata": {},
   "outputs": [],
   "source": [
    "%%html\n",
    "\n",
    "<!-- комментарии html -->\n",
    "\n",
    "<!DOCTYPE html>             <!--говорит браузеру, что это html страница, можно указать версию html-->\n",
    "\n",
    "<html lang=\"en\">            <!--тег html является контейнером в котором лежит весь остальной код, он необязателен-->\n",
    "\n",
    "<head>                      <!--тег head, в котором лежит вспомогательная информация о веб-странице (стили,-->\n",
    "                            <!--                                                        подключение библиотек и т.п.)-->\n",
    "\n",
    "    <meta charset=\"UTF-8\">  <!--тег meta определяет кодировку, параметры отображения страницы, ключевые слова для-->\n",
    "                            <!--                                                            поисковых систем и т.д.-->\n",
    "        \n",
    "    <title>Test</title>     <!--заголовок, отображается как надпись на вкладке сайта-->\n",
    "    \n",
    "</head>                     <!--все приличные теги открываются и закрываются, внутри них содержится контент --->\n",
    "                            <!--открывающий тег выглядит так: <tag_name>, закрывающий имеет \"/\" в начале:-->\n",
    "                            <!--</tag_name>, иногда тег не содержит контента и является сам себе и открывающим и-->\n",
    "                            <!--закрывающим, выглядит это так: <tag_name />-->\n",
    "<body>\n",
    "  <center>                  <!--<center> - центрирует контент-->\n",
    "    \n",
    "    <h1>Регистрация ФМТ</h1>  <!--<a> - заголовок (<h1>, <h2>, <h3>, ... - заголовки разных уровней)-->\n",
    "    \n",
    "  </center>\n",
    "\n",
    "    <a href=\"https://vk.com/klsh_ru\">Ссылка на ВК КЛШ</a> <!--<a> - ссылка, у неё есть аттрибут href, аттрибуты\n",
    "                                                              позволяют задавать стили, свойства, id и т.д.-->\n",
    "        \n",
    "    <img src=\"./KLH.jpg\">                                 <!--картинка, в src передаётся ссылка на вебсайт\n",
    "                                                              или на файл в локальной системе, в зависимости\n",
    "                                                              от того как хостится сайт-->\n",
    "</body>\n",
    "</html>"
   ]
  },
  {
   "cell_type": "code",
   "execution_count": null,
   "id": "2dc573a3",
   "metadata": {},
   "outputs": [],
   "source": [
    "%%html\n",
    "\n",
    "<!DOCTYPE html>\n",
    "<head>\n",
    "<style>\n",
    ".red-button{\n",
    "\tbackground-color: #ff0000\n",
    "}\n",
    "</style>\n",
    "\n",
    "<title>Form for registration</title>\n",
    "<meta charset=\"UTF-8\"></meta>\n",
    "</head>\n",
    "\n",
    "<body>\n",
    "\t<h1>Registration form</h1>\n",
    "\t<p>Fill in reg data</p>\n",
    "\n",
    "\t<form onsubmit=\"return false\">\n",
    "\t\t<label>e-mail</label><br>\n",
    "\t\t<input type=\"email\" id=\"form_email\"></input><br><br>\n",
    "\t\t<label>password</label><br>\n",
    "\t\t<input type=\"password\" id=\"form_pass\"></input><br><br>\n",
    "\t\t<button class=\"red-button\" onClick=\"submitForm();\" id=\"the_button\">Submit</button>\n",
    "\t</form>\n",
    "\n",
    "\t<details>\n",
    "\t\t<summary>See registration data</summary>\n",
    "\t\t<table>\n",
    "\t\t\t<tr>\n",
    "\t\t\t  <th>Name field</th>\n",
    "\t\t\t  <th>Value field</th>\n",
    "\t\t\t</tr>\n",
    "\t\t\t<tr>\n",
    "\t\t\t  <td>Email</td>\n",
    "\t\t\t  <td id=\"table_email\">-</td>\n",
    "\t\t\t</tr>\n",
    "\t\t\t<tr>\n",
    "\t\t\t  <td>Password</td>\n",
    "\t\t\t  <td id=\"table_pass\">-</td>\n",
    "\t\t\t</tr>\n",
    "\t\t\t<tr>\n",
    "\t\t\t  <td>ID</td>\n",
    "\t\t\t  <td id=\"table_id\">-</td>\n",
    "\t\t\t</tr>\n",
    "\t\t</table>\n",
    "\t</details>\n",
    "\n",
    "</body>\n",
    "\n",
    "<script>\n",
    "\tfunction submitForm(){\n",
    "\t\tvar email = document.getElementById(\"form_email\").value;\n",
    "\t\tvar pass = document.getElementById(\"form_pass\").value;\n",
    "\t\tvar form_id = Math.round(Math.random()*10000000);\n",
    "\n",
    "\t\tdocument.getElementById(\"table_email\").innerHTML = email;\n",
    "\t\tdocument.getElementById(\"table_pass\").innerHTML = pass;\n",
    "\t\tdocument.getElementById(\"table_id\").innerHTML = form_id;\n",
    "\n",
    "\t\talert(\"Email \" + email.toString() + \" Password \" + pass.toString());\n",
    "\t}\n",
    "</script>"
   ]
  },
  {
   "cell_type": "markdown",
   "id": "5f6918a2",
   "metadata": {},
   "source": [
    "## Задачи\n",
    "\n",
    "1. Создайте сайт-визитку вашей команды с меню: о нас, наши проекты, наши компетенции, контакты с картинками и текстом. "
   ]
  }
 ],
 "metadata": {
  "kernelspec": {
   "display_name": "Python 3 (ipykernel)",
   "language": "python",
   "name": "python3"
  },
  "language_info": {
   "codemirror_mode": {
    "name": "ipython",
    "version": 3
   },
   "file_extension": ".py",
   "mimetype": "text/x-python",
   "name": "python",
   "nbconvert_exporter": "python",
   "pygments_lexer": "ipython3",
   "version": "3.7.9"
  }
 },
 "nbformat": 4,
 "nbformat_minor": 5
}
